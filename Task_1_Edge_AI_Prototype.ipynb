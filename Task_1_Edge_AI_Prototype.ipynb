{
  "cells": [
    {
      "cell_type": "code",
      "execution_count": null,
      "metadata": {
        "id": "4F_haBUAlWkN"
      },
      "outputs": [],
      "source": []
    },
    {
      "cell_type": "markdown",
      "metadata": {
        "id": "db0dcd86"
      },
      "source": [
        "**Note:** Replace the following placeholder code with your actual data loading or generation logic for `train_images`, `train_labels`, `val_images`, and `val_labels`."
      ]
    },
    {
      "cell_type": "code",
      "execution_count": null,
      "metadata": {
        "colab": {
          "base_uri": "https://localhost:8080/"
        },
        "id": "852c3b31",
        "outputId": "e6e9765e-04cc-44f4-ecf8-8e79ffa216ff"
      },
      "outputs": [
        {
          "name": "stdout",
          "output_type": "stream",
          "text": [
            "Placeholder data generated:\n",
            "train_images shape: (100, 64, 64, 3)\n",
            "train_labels shape: (100,)\n",
            "val_images shape: (20, 64, 64, 3)\n",
            "val_labels shape: (20,)\n"
          ]
        }
      ],
      "source": [
        "# Placeholder code: Replace with your actual data loading or generation\n",
        "import numpy as np\n",
        "\n",
        "# Assuming your images are 64x64 with 3 channels and you have 100 training samples and 20 validation samples\n",
        "num_train_samples = 100\n",
        "num_val_samples = 20\n",
        "image_height = 64\n",
        "image_width = 64\n",
        "num_channels = 3\n",
        "num_categories = 5\n",
        "\n",
        "train_images = np.random.rand(num_train_samples, image_height, image_width, num_channels)\n",
        "train_labels = np.random.randint(0, num_categories, size=(num_train_samples,)) # Placeholder for integer labels\n",
        "# If using categorical_crossentropy, you'll likely need one-hot encoded labels\n",
        "# train_labels = tf.keras.utils.to_categorical(train_labels, num_classes=num_categories)\n",
        "\n",
        "\n",
        "val_images = np.random.rand(num_val_samples, image_height, image_width, num_channels)\n",
        "val_labels = np.random.randint(0, num_categories, size=(num_val_samples,)) # Placeholder for integer labels\n",
        "# If using categorical_crossentropy, you'll likely need one-hot encoded labels\n",
        "# val_labels = tf.keras.utils.to_categorical(val_labels, num_classes=num_categories)\n",
        "\n",
        "print(\"Placeholder data generated:\")\n",
        "print(\"train_images shape:\", train_images.shape)\n",
        "print(\"train_labels shape:\", train_labels.shape)\n",
        "print(\"val_images shape:\", val_images.shape)\n",
        "print(\"val_labels shape:\", val_labels.shape)"
      ]
    },
    {
      "cell_type": "code",
      "execution_count": null,
      "metadata": {
        "colab": {
          "base_uri": "https://localhost:8080/"
        },
        "id": "LUJeqpUwoIrz",
        "outputId": "f9973631-8306-4f5c-9745-6c32fd829942"
      },
      "outputs": [
        {
          "name": "stdout",
          "output_type": "stream",
          "text": [
            "Saved artifact at '/tmp/tmpyz394pyk'. The following endpoints are available:\n",
            "\n",
            "* Endpoint 'serve'\n",
            "  args_0 (POSITIONAL_ONLY): TensorSpec(shape=(None, 64, 64, 3), dtype=tf.float32, name='keras_tensor')\n",
            "Output Type:\n",
            "  TensorSpec(shape=(None, 5), dtype=tf.float32, name=None)\n",
            "Captures:\n",
            "  135039230164432: TensorSpec(shape=(), dtype=tf.resource, name=None)\n",
            "  135039230164048: TensorSpec(shape=(), dtype=tf.resource, name=None)\n",
            "  135039226741392: TensorSpec(shape=(), dtype=tf.resource, name=None)\n",
            "  135039226742544: TensorSpec(shape=(), dtype=tf.resource, name=None)\n",
            "  135039226742160: TensorSpec(shape=(), dtype=tf.resource, name=None)\n",
            "  135039226743696: TensorSpec(shape=(), dtype=tf.resource, name=None)\n",
            "  135039230163856: TensorSpec(shape=(), dtype=tf.resource, name=None)\n",
            "  135039226742736: TensorSpec(shape=(), dtype=tf.resource, name=None)\n"
          ]
        }
      ],
      "source": [
        "converter = tf.lite.TFLiteConverter.from_keras_model(model)\n",
        "tflite_model = converter.convert()\n",
        "\n",
        "with open(\"recycle_model.tflite\", \"wb\") as f:\n",
        "    f.write(tflite_model)\n"
      ]
    }
  ],
  "metadata": {
    "colab": {
      "provenance": []
    },
    "kernelspec": {
      "display_name": "Python 3",
      "name": "python3"
    },
    "language_info": {
      "name": "python"
    }
  },
  "nbformat": 4,
  "nbformat_minor": 0
}
